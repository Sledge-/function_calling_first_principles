{
 "cells": [
  {
   "cell_type": "code",
   "execution_count": 1,
   "metadata": {},
   "outputs": [],
   "source": [
    "import json\n",
    "import os\n",
    "import sys\n",
    "import boto3"
   ]
  },
  {
   "cell_type": "code",
   "execution_count": 2,
   "metadata": {},
   "outputs": [],
   "source": [
    "from utils import bedrock, print_ww"
   ]
  },
  {
   "cell_type": "code",
   "execution_count": 3,
   "metadata": {},
   "outputs": [
    {
     "name": "stdout",
     "output_type": "stream",
     "text": [
      "Create new client\n",
      "  Using region: None\n",
      "boto3 Bedrock client successfully created!\n",
      "bedrock(https://bedrock.us-east-1.amazonaws.com)\n"
     ]
    }
   ],
   "source": [
    "boto3_bedrock = bedrock.get_bedrock_client(\n",
    "    assumed_role=os.environ.get(\"BEDROCK_ASSUME_ROLE\", None),\n",
    "    region=os.environ.get(\"AWS_DEFAULT_REGION\", None),\n",
    "    runtime=False\n",
    ")"
   ]
  },
  {
   "cell_type": "code",
   "execution_count": 4,
   "metadata": {},
   "outputs": [
    {
     "data": {
      "text/plain": [
       "{'ResponseMetadata': {'RequestId': 'dea707bf-3d1e-4a37-95d1-db3f8502b025',\n",
       "  'HTTPStatusCode': 200,\n",
       "  'HTTPHeaders': {'date': 'Sat, 30 Sep 2023 19:48:16 GMT',\n",
       "   'content-type': 'application/json',\n",
       "   'content-length': '6399',\n",
       "   'connection': 'keep-alive',\n",
       "   'x-amzn-requestid': 'dea707bf-3d1e-4a37-95d1-db3f8502b025'},\n",
       "  'RetryAttempts': 0},\n",
       " 'modelSummaries': [{'customizationsSupported': ['FINE_TUNING'],\n",
       "   'inferenceTypesSupported': ['ON_DEMAND'],\n",
       "   'inputModalities': ['TEXT'],\n",
       "   'modelArn': 'arn:aws:bedrock:us-east-1::foundation-model/amazon.titan-tg1-large',\n",
       "   'modelId': 'amazon.titan-tg1-large',\n",
       "   'modelName': 'Titan Text Large',\n",
       "   'outputModalities': ['TEXT'],\n",
       "   'providerName': 'Amazon',\n",
       "   'responseStreamingSupported': True},\n",
       "  {'customizationsSupported': [],\n",
       "   'inferenceTypesSupported': ['ON_DEMAND'],\n",
       "   'inputModalities': ['TEXT'],\n",
       "   'modelArn': 'arn:aws:bedrock:us-east-1::foundation-model/amazon.titan-e1t-medium',\n",
       "   'modelId': 'amazon.titan-e1t-medium',\n",
       "   'modelName': 'Titan Text Embeddings',\n",
       "   'outputModalities': ['EMBEDDING'],\n",
       "   'providerName': 'Amazon'},\n",
       "  {'customizationsSupported': [],\n",
       "   'inferenceTypesSupported': ['ON_DEMAND'],\n",
       "   'inputModalities': ['TEXT'],\n",
       "   'modelArn': 'arn:aws:bedrock:us-east-1::foundation-model/amazon.titan-embed-g1-text-02',\n",
       "   'modelId': 'amazon.titan-embed-g1-text-02',\n",
       "   'modelName': 'Titan Text Embeddings v2',\n",
       "   'outputModalities': ['EMBEDDING'],\n",
       "   'providerName': 'Amazon'},\n",
       "  {'customizationsSupported': [],\n",
       "   'inferenceTypesSupported': ['ON_DEMAND'],\n",
       "   'inputModalities': ['TEXT'],\n",
       "   'modelArn': 'arn:aws:bedrock:us-east-1::foundation-model/amazon.titan-text-express-v1',\n",
       "   'modelId': 'amazon.titan-text-express-v1',\n",
       "   'modelName': 'Titan Text G1 - Express',\n",
       "   'outputModalities': ['TEXT'],\n",
       "   'providerName': 'Amazon',\n",
       "   'responseStreamingSupported': True},\n",
       "  {'customizationsSupported': [],\n",
       "   'inferenceTypesSupported': ['ON_DEMAND'],\n",
       "   'inputModalities': ['TEXT'],\n",
       "   'modelArn': 'arn:aws:bedrock:us-east-1::foundation-model/amazon.titan-embed-text-v1',\n",
       "   'modelId': 'amazon.titan-embed-text-v1',\n",
       "   'modelName': 'Titan Embeddings G1 - Text',\n",
       "   'outputModalities': ['EMBEDDING'],\n",
       "   'providerName': 'Amazon',\n",
       "   'responseStreamingSupported': True},\n",
       "  {'customizationsSupported': [],\n",
       "   'inferenceTypesSupported': ['ON_DEMAND'],\n",
       "   'inputModalities': ['TEXT', 'IMAGE'],\n",
       "   'modelArn': 'arn:aws:bedrock:us-east-1::foundation-model/stability.stable-diffusion-xl',\n",
       "   'modelId': 'stability.stable-diffusion-xl',\n",
       "   'modelName': 'Stable Diffusion XL',\n",
       "   'outputModalities': ['IMAGE'],\n",
       "   'providerName': 'Stability AI'},\n",
       "  {'customizationsSupported': [],\n",
       "   'inferenceTypesSupported': ['ON_DEMAND'],\n",
       "   'inputModalities': ['TEXT', 'IMAGE'],\n",
       "   'modelArn': 'arn:aws:bedrock:us-east-1::foundation-model/stability.stable-diffusion-xl-v0',\n",
       "   'modelId': 'stability.stable-diffusion-xl-v0',\n",
       "   'modelName': 'Stable Diffusion XL',\n",
       "   'outputModalities': ['IMAGE'],\n",
       "   'providerName': 'Stability AI'},\n",
       "  {'customizationsSupported': [],\n",
       "   'inferenceTypesSupported': ['ON_DEMAND'],\n",
       "   'inputModalities': ['TEXT'],\n",
       "   'modelArn': 'arn:aws:bedrock:us-east-1::foundation-model/ai21.j2-grande-instruct',\n",
       "   'modelId': 'ai21.j2-grande-instruct',\n",
       "   'modelName': 'J2 Grande Instruct',\n",
       "   'outputModalities': ['TEXT'],\n",
       "   'providerName': 'AI21 Labs',\n",
       "   'responseStreamingSupported': False},\n",
       "  {'customizationsSupported': [],\n",
       "   'inferenceTypesSupported': ['ON_DEMAND'],\n",
       "   'inputModalities': ['TEXT'],\n",
       "   'modelArn': 'arn:aws:bedrock:us-east-1::foundation-model/ai21.j2-jumbo-instruct',\n",
       "   'modelId': 'ai21.j2-jumbo-instruct',\n",
       "   'modelName': 'J2 Jumbo Instruct',\n",
       "   'outputModalities': ['TEXT'],\n",
       "   'providerName': 'AI21 Labs',\n",
       "   'responseStreamingSupported': False},\n",
       "  {'customizationsSupported': [],\n",
       "   'inferenceTypesSupported': ['ON_DEMAND'],\n",
       "   'inputModalities': ['TEXT'],\n",
       "   'modelArn': 'arn:aws:bedrock:us-east-1::foundation-model/ai21.j2-mid',\n",
       "   'modelId': 'ai21.j2-mid',\n",
       "   'modelName': 'Jurassic-2 Mid',\n",
       "   'outputModalities': ['TEXT'],\n",
       "   'providerName': 'AI21 Labs',\n",
       "   'responseStreamingSupported': False},\n",
       "  {'customizationsSupported': [],\n",
       "   'inferenceTypesSupported': ['ON_DEMAND'],\n",
       "   'inputModalities': ['TEXT'],\n",
       "   'modelArn': 'arn:aws:bedrock:us-east-1::foundation-model/ai21.j2-mid-v1',\n",
       "   'modelId': 'ai21.j2-mid-v1',\n",
       "   'modelName': 'Jurassic-2 Mid',\n",
       "   'outputModalities': ['TEXT'],\n",
       "   'providerName': 'AI21 Labs',\n",
       "   'responseStreamingSupported': False},\n",
       "  {'customizationsSupported': [],\n",
       "   'inferenceTypesSupported': ['ON_DEMAND'],\n",
       "   'inputModalities': ['TEXT'],\n",
       "   'modelArn': 'arn:aws:bedrock:us-east-1::foundation-model/ai21.j2-ultra',\n",
       "   'modelId': 'ai21.j2-ultra',\n",
       "   'modelName': 'Jurassic-2 Ultra',\n",
       "   'outputModalities': ['TEXT'],\n",
       "   'providerName': 'AI21 Labs',\n",
       "   'responseStreamingSupported': False},\n",
       "  {'customizationsSupported': [],\n",
       "   'inferenceTypesSupported': ['ON_DEMAND'],\n",
       "   'inputModalities': ['TEXT'],\n",
       "   'modelArn': 'arn:aws:bedrock:us-east-1::foundation-model/ai21.j2-ultra-v1',\n",
       "   'modelId': 'ai21.j2-ultra-v1',\n",
       "   'modelName': 'Jurassic-2 Ultra',\n",
       "   'outputModalities': ['TEXT'],\n",
       "   'providerName': 'AI21 Labs',\n",
       "   'responseStreamingSupported': False},\n",
       "  {'customizationsSupported': [],\n",
       "   'inferenceTypesSupported': ['ON_DEMAND'],\n",
       "   'inputModalities': ['TEXT'],\n",
       "   'modelArn': 'arn:aws:bedrock:us-east-1::foundation-model/anthropic.claude-instant-v1',\n",
       "   'modelId': 'anthropic.claude-instant-v1',\n",
       "   'modelName': 'Claude Instant',\n",
       "   'outputModalities': ['TEXT'],\n",
       "   'providerName': 'Anthropic',\n",
       "   'responseStreamingSupported': True},\n",
       "  {'customizationsSupported': [],\n",
       "   'inferenceTypesSupported': ['ON_DEMAND'],\n",
       "   'inputModalities': ['TEXT'],\n",
       "   'modelArn': 'arn:aws:bedrock:us-east-1::foundation-model/anthropic.claude-v1',\n",
       "   'modelId': 'anthropic.claude-v1',\n",
       "   'modelName': 'Claude',\n",
       "   'outputModalities': ['TEXT'],\n",
       "   'providerName': 'Anthropic',\n",
       "   'responseStreamingSupported': True},\n",
       "  {'customizationsSupported': [],\n",
       "   'inferenceTypesSupported': ['ON_DEMAND'],\n",
       "   'inputModalities': ['TEXT'],\n",
       "   'modelArn': 'arn:aws:bedrock:us-east-1::foundation-model/anthropic.claude-v1-100k',\n",
       "   'modelId': 'anthropic.claude-v1-100k',\n",
       "   'modelName': 'Claude V1 100k',\n",
       "   'outputModalities': ['TEXT'],\n",
       "   'providerName': 'Anthropic',\n",
       "   'responseStreamingSupported': True},\n",
       "  {'customizationsSupported': [],\n",
       "   'inferenceTypesSupported': ['ON_DEMAND'],\n",
       "   'inputModalities': ['TEXT'],\n",
       "   'modelArn': 'arn:aws:bedrock:us-east-1::foundation-model/anthropic.claude-v2',\n",
       "   'modelId': 'anthropic.claude-v2',\n",
       "   'modelName': 'Claude',\n",
       "   'outputModalities': ['TEXT'],\n",
       "   'providerName': 'Anthropic',\n",
       "   'responseStreamingSupported': True},\n",
       "  {'customizationsSupported': [],\n",
       "   'inferenceTypesSupported': ['ON_DEMAND'],\n",
       "   'inputModalities': ['TEXT'],\n",
       "   'modelArn': 'arn:aws:bedrock:us-east-1::foundation-model/anthropic.claude-v2-100k',\n",
       "   'modelId': 'anthropic.claude-v2-100k',\n",
       "   'modelName': 'Claude V2 100k',\n",
       "   'outputModalities': ['TEXT'],\n",
       "   'providerName': 'Anthropic',\n",
       "   'responseStreamingSupported': True},\n",
       "  {'customizationsSupported': [],\n",
       "   'inferenceTypesSupported': ['ON_DEMAND'],\n",
       "   'inputModalities': ['TEXT'],\n",
       "   'modelArn': 'arn:aws:bedrock:us-east-1::foundation-model/cohere.command-text-v14',\n",
       "   'modelId': 'cohere.command-text-v14',\n",
       "   'modelName': 'Command',\n",
       "   'outputModalities': ['TEXT'],\n",
       "   'providerName': 'Cohere',\n",
       "   'responseStreamingSupported': True}]}"
      ]
     },
     "execution_count": 4,
     "metadata": {},
     "output_type": "execute_result"
    }
   ],
   "source": [
    "boto3_bedrock.list_foundation_models()"
   ]
  },
  {
   "cell_type": "code",
   "execution_count": null,
   "metadata": {},
   "outputs": [],
   "source": [
    "# aws-azure-login --no-prompt --mode=gui\n",
    "session = boto3.Session()"
   ]
  },
  {
   "cell_type": "code",
   "execution_count": null,
   "metadata": {},
   "outputs": [],
   "source": [
    "bedrock_client = session.client(\n",
    "    # service_name='bedrock-runtime'\n",
    "    service_name='bedrock'\n",
    ")\n",
    "\n",
    "print(\"boto3 Bedrock client successfully created!\")\n",
    "print(bedrock_client._endpoint)"
   ]
  },
  {
   "cell_type": "code",
   "execution_count": 5,
   "metadata": {},
   "outputs": [
    {
     "name": "stdout",
     "output_type": "stream",
     "text": [
      "Create new client\n",
      "  Using region: None\n",
      "boto3 Bedrock client successfully created!\n",
      "bedrock-runtime(https://bedrock-runtime.us-east-1.amazonaws.com)\n"
     ]
    }
   ],
   "source": [
    "bedrock_runtime = bedrock.get_bedrock_client(\n",
    "    assumed_role=os.environ.get(\"BEDROCK_ASSUME_ROLE\", None),\n",
    "    region=os.environ.get(\"AWS_DEFAULT_REGION\", None)\n",
    ")"
   ]
  },
  {
   "cell_type": "code",
   "execution_count": null,
   "metadata": {},
   "outputs": [],
   "source": []
  },
  {
   "cell_type": "code",
   "execution_count": null,
   "metadata": {},
   "outputs": [],
   "source": []
  },
  {
   "cell_type": "code",
   "execution_count": 6,
   "metadata": {},
   "outputs": [],
   "source": [
    "prompt_data = \"\"\"Human: Write me a blog about making strong business decisions as a leader.\n",
    "\n",
    "Assistant:\n",
    "\"\"\""
   ]
  },
  {
   "cell_type": "code",
   "execution_count": 7,
   "metadata": {},
   "outputs": [],
   "source": [
    "body = json.dumps({\"prompt\": prompt_data, \"max_tokens_to_sample\": 500})\n",
    "modelId = \"anthropic.claude-instant-v1\"  # change this to use a different version from the model provider\n",
    "accept = \"application/json\"\n",
    "contentType = \"application/json\""
   ]
  },
  {
   "cell_type": "code",
   "execution_count": 8,
   "metadata": {},
   "outputs": [
    {
     "name": "stdout",
     "output_type": "stream",
     "text": [
      " Here is a draft blog post on making strong business decisions as a leader:\n",
      "\n",
      "Making Strong Business Decisions as a Leader\n",
      "\n",
      "As a business leader, you are responsible for making important decisions that will shape your company's future. Both large and small choices can greatly impact your bottom line results and organizational success. To make the best choices, it's essential to approach decisions thoughtfully with a clear process. Here are some tips for making strong business decisions:\n",
      "\n",
      "Gather Comprehensive Data\n",
      "Before committing to any course of action, do your homework. Collect data from various departments like sales, finance, marketing and product development. Look at industry trends, competitive landscape analysis, and customer feedback. The more informed you are about all relevant factors, the better positioned you'll be to identify the optimal solution. \n",
      "\n",
      "Consider Multiple Options\n",
      "Don't jump at the first idea - brainstorm alternative paths. Get input from your management team on other viable options. Evaluate the pros and cons of each potential choice from different perspectives. Being open-minded about multiple options increases the chances of discovering a more innovative or effective approach.\n",
      "\n",
      "Assess Risks and Rewards\n",
      "Carefully assess the risks involved with each option as well as the potential rewards or upside. Try to estimate realistic outcomes and weigh the likelihood of various scenarios occurring. Consider impacts on both short and long-term goals. Options with reasonable risks but high rewards are usually the best bets for driving growth.\n",
      "\n",
      "Make Logical, Data-Driven Choices  \n",
      "Once you've gathered a range of options and input, use the factual information available to logically select the choice most aligned with your company's strategic objectives and values. Data should inform the decision rather than gut feelings alone. A logical, fact-based process promotes buy-in and confidence in your leadership abilities.\n",
      "\n",
      "Trust Your Instincts Too\n",
      "While data provides an important factual foundation, business is also part art. Don't discount your intuition entirely - experience gives you valuable instincts. If your gut strongly pulls you towards an option not clearly indicated by facts alone, reexamine it closely before dismissing the hunch. Sometimes those instincts see elements data can't. \n",
      "\n",
      "Follow Through on Execution\n",
      "The decision making process doesn't end once a choice is made. Strong leaders then focus on execution - creating a plan, assigning accountability, establishing metrics and checkpoints. Follow through is critical to achieving the desired outcome and business impact of any decision. \n",
      "\n",
      "With a thoughtful,\n"
     ]
    }
   ],
   "source": [
    "response = bedrock_runtime.invoke_model(\n",
    "    body=body, modelId=modelId, accept=accept, contentType=contentType\n",
    ")\n",
    "response_body = json.loads(response.get(\"body\").read())\n",
    "\n",
    "print(response_body.get(\"completion\"))"
   ]
  },
  {
   "cell_type": "code",
   "execution_count": 9,
   "metadata": {},
   "outputs": [],
   "source": [
    "body = json.dumps({\"prompt\": prompt_data, \"max_tokens_to_sample\": 500})\n",
    "modelId = \"anthropic.claude-v2\" \n",
    "accept = \"application/json\"\n",
    "contentType = \"application/json\""
   ]
  },
  {
   "cell_type": "code",
   "execution_count": 10,
   "metadata": {},
   "outputs": [
    {
     "name": "stdout",
     "output_type": "stream",
     "text": [
      " Here is a draft blog post on making strong business decisions as a leader:\n",
      "\n",
      "Making Strong Business Decisions as a Leader\n",
      "\n",
      "As a leader in business, one of the most important skills is being able to make strong, thoughtful decisions that will guide your company or team in the right direction. Here are some tips for making sound business decisions as a leader:\n",
      "\n",
      "Consider the pros and cons. Take time to carefully weigh the potential benefits and downsides of any major decision. Get input from your team and listen to different perspectives. A thorough cost-benefit analysis is crucial.\n",
      "\n",
      "Look at the big picture. Don't just think about how a decision will impact your immediate team or short-term goals. Consider how it might affect other departments, your overall business objectives, and the future of the company. Take a broad view.  \n",
      "\n",
      "Gather ample information. Do your research and collect as much pertinent information as possible before finalizing a decision. Data, expert input, market research, financials - compile everything you need to make an informed choice. Avoid deciding with incomplete data.\n",
      "\n",
      "Consult experts. Don't go it alone. Talk to knowledgeable colleagues and mentors to get insights you may be lacking. Experts may spot risks or offer solutions you hadn't considered. Listen to trusted advisors. \n",
      "\n",
      "Learn from past outcomes. Reflect on how previous decisions worked out. What went well? What didn't? Apply those lessons as you evaluate new choices. Learn from your wins and mistakes.\n",
      "\n",
      "Trust your judgment. Once you've carefully weighed your options, go with your gut. As the leader, the final call is yours to make. Have confidence in your expertise and experience.\n",
      "\n",
      "Adjust if necessary. Revisit your decisions periodically to see if they are working as anticipated. If not, be ready to change course after careful re-evaluation. Don't stick rigidly to a bad choice.\n",
      "\n",
      "Making sound business decisions requires research, experience, trusted advisors and confidence. Follow these guidelines to lead your team wisely.\n"
     ]
    }
   ],
   "source": [
    "response = bedrock_runtime.invoke_model(\n",
    "    body=body, modelId=modelId, accept=accept, contentType=contentType\n",
    ")\n",
    "response_body = json.loads(response.get(\"body\").read())\n",
    "\n",
    "print(response_body.get(\"completion\"))"
   ]
  },
  {
   "cell_type": "code",
   "execution_count": null,
   "metadata": {},
   "outputs": [],
   "source": []
  }
 ],
 "metadata": {
  "kernelspec": {
   "display_name": "bedrock",
   "language": "python",
   "name": "python3"
  },
  "language_info": {
   "codemirror_mode": {
    "name": "ipython",
    "version": 3
   },
   "file_extension": ".py",
   "mimetype": "text/x-python",
   "name": "python",
   "nbconvert_exporter": "python",
   "pygments_lexer": "ipython3",
   "version": "3.10.13"
  },
  "orig_nbformat": 4
 },
 "nbformat": 4,
 "nbformat_minor": 2
}
