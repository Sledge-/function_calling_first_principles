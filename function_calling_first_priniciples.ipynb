{
 "cells": [
  {
   "cell_type": "markdown",
   "metadata": {},
   "source": [
    "# Function Calling from First Principles\n",
    "In this notebook, I'll be working through an example that shows how to do function calling with LLMs.  Function calling is a design pattern that takes advantage of the LLMs immanent knowledge of JSON schema to arm it with the ability to interact with its environment.  \n",
    "\n",
    "These interaction allow the model to pursue goals with a greater scope of influence than just writing words.  There is a massive potential for goal seeking LLMs across a wide range of use cases, because of the open endedness of the problem solving approach.\n",
    "\n",
    "For this example, I have limited the LLMs scope to one tool in order to keep the example focused on understanding what's happening when an LLM actually uses external tools.\n",
    "\n"
   ]
  },
  {
   "cell_type": "code",
   "execution_count": 1,
   "metadata": {},
   "outputs": [],
   "source": [
    "import json\n",
    "import os\n",
    "import sys\n",
    "import boto3\n",
    "from utils import bedrock, print_ww\n",
    "from utils.utils import extract_model_info"
   ]
  },
  {
   "cell_type": "markdown",
   "metadata": {},
   "source": [
    "## Setting up Bedrock API.\n",
    "\n",
    "We'll use AWS bedrock models, specifically Claude V2, to test this design pattern."
   ]
  },
  {
   "cell_type": "code",
   "execution_count": 2,
   "metadata": {},
   "outputs": [
    {
     "name": "stdout",
     "output_type": "stream",
     "text": [
      "Create new client\n",
      "  Using region: us-east-1\n",
      "boto3 Bedrock client successfully created!\n",
      "bedrock(https://bedrock.us-east-1.amazonaws.com)\n"
     ]
    }
   ],
   "source": [
    "boto3_bedrock = bedrock.get_bedrock_client(\n",
    "    assumed_role=os.environ.get(\"BEDROCK_ASSUME_ROLE\", None),\n",
    "    region=os.environ.get(\"AWS_DEFAULT_REGION\", \"us-east-1\"),\n",
    "    runtime=False\n",
    ")"
   ]
  },
  {
   "cell_type": "markdown",
   "metadata": {},
   "source": [
    "Let's take a look at which models we have access to."
   ]
  },
  {
   "cell_type": "code",
   "execution_count": 3,
   "metadata": {},
   "outputs": [
    {
     "name": "stdout",
     "output_type": "stream",
     "text": [
      "extract_model_info(all_models): [('Titan Text Large', 'amazon.titan-tg1-large'), ('Titan Text Embeddings', 'amazon.titan-e1t-medium'), ('Titan Text Embeddings v2', 'amazon.titan-embed-g1-text-02'), ('Titan Text G1 - Express', 'amazon.titan-text-express-v1'), ('Titan Embeddings G1 - Text', 'amazon.titan-embed-text-v1'), ('Stable Diffusion XL', 'stability.stable-diffusion-xl'), ('Stable Diffusion XL', 'stability.stable-diffusion-xl-v0'), ('J2 Grande Instruct', 'ai21.j2-grande-instruct'), ('J2 Jumbo Instruct', 'ai21.j2-jumbo-instruct'), ('Jurassic-2 Mid', 'ai21.j2-mid'), ('Jurassic-2 Mid', 'ai21.j2-mid-v1'), ('Jurassic-2 Ultra', 'ai21.j2-ultra'), ('Jurassic-2 Ultra', 'ai21.j2-ultra-v1'), ('Claude Instant', 'anthropic.claude-instant-v1'), ('Claude', 'anthropic.claude-v1'), ('Claude', 'anthropic.claude-v2'), ('Command', 'cohere.command-text-v14')]\n"
     ]
    }
   ],
   "source": [
    "all_models = boto3_bedrock.list_foundation_models()\n",
    "print(f\"extract_model_info(all_models): {extract_model_info(all_models)}\")"
   ]
  },
  {
   "cell_type": "code",
   "execution_count": 4,
   "metadata": {},
   "outputs": [
    {
     "name": "stdout",
     "output_type": "stream",
     "text": [
      "Create new client\n",
      "  Using region: us-east-1\n",
      "boto3 Bedrock client successfully created!\n",
      "bedrock-runtime(https://bedrock-runtime.us-east-1.amazonaws.com)\n"
     ]
    }
   ],
   "source": [
    "bedrock_runtime = bedrock.get_bedrock_client(\n",
    "    assumed_role=os.environ.get(\"BEDROCK_ASSUME_ROLE\", None),\n",
    "    region=os.environ.get(\"AWS_DEFAULT_REGION\", \"us-east-1\")\n",
    ")"
   ]
  },
  {
   "cell_type": "markdown",
   "metadata": {},
   "source": [
    "Let's see what the model knows about JSON schema.  If you get a coherent and relatively accurate answer here, it's a good sign that this technique will likely work with your model of choice."
   ]
  },
  {
   "cell_type": "code",
   "execution_count": 5,
   "metadata": {},
   "outputs": [],
   "source": [
    "prompt_data = \"\"\"\n",
    "Human: Tell me everything you know about JSON schema.\n",
    "\n",
    "Assistant:\"\"\""
   ]
  },
  {
   "cell_type": "code",
   "execution_count": 6,
   "metadata": {},
   "outputs": [],
   "source": [
    "body = json.dumps({\"prompt\": prompt_data, \"max_tokens_to_sample\": 500})\n",
    "modelId = \"anthropic.claude-v2\" \n",
    "accept = \"application/json\"\n",
    "contentType = \"application/json\""
   ]
  },
  {
   "cell_type": "code",
   "execution_count": 7,
   "metadata": {},
   "outputs": [
    {
     "name": "stdout",
     "output_type": "stream",
     "text": [
      " Here is a summary of what I know about JSON schema:\n",
      "\n",
      "- JSON schema is a specification for defining the structure and validation criteria for JSON data. It provides a declarative way to specify requirements and validate JSON documents against those requirements.\n",
      "\n",
      "- The main components of a JSON schema are:\n",
      "\n",
      "    - Definitions - Used to define commonly reused JSON objects\n",
      "    - Properties - Used to define the structure of a JSON object\n",
      "    - Required properties - Properties that must exist in an object\n",
      "    - Data types - Used to define the data type of a property (string, number, boolean, etc)\n",
      "    - Format validation - Used for further validation of data types (email, date, etc) \n",
      "    - Enumerations - Restricts a value to a fixed set of values\n",
      "    - Conditionals - Specify requirements depending on another property value\n",
      "    - Array validations - Validates contents of arrays\n",
      "\n",
      "- JSON schema allows for validation keywords like \"minimum\", \"maximum\" for numbers, \"minLength\", \"maxLength\" for strings, and custom validation with \"pattern\".\n",
      "\n",
      "- JSON schema files conventionally use the .schema.json extension.\n",
      "\n",
      "- JSON schema is defined in JSON format itself, which makes it easy to parse and generate.\n",
      "\n",
      "- There are libraries available for most programming languages to validate JSON against a JSON schema.\n",
      "\n",
      "- JSON schema is commonly used for configuration files, API definitions, JSON data stored in databases, and more. It provides a standard way to document and validate JSON data.\n"
     ]
    }
   ],
   "source": [
    "response = bedrock_runtime.invoke_model(\n",
    "    body=body, modelId=modelId, accept=accept, contentType=contentType\n",
    ")\n",
    "response_body = json.loads(response.get(\"body\").read())\n",
    "\n",
    "print(response_body.get(\"completion\"))"
   ]
  },
  {
   "cell_type": "markdown",
   "metadata": {},
   "source": [
    "## An Example - How's the weather?\n",
    "In this example, I show how to use JSON schema based function definitions to generate function arguments.  You'll see a JSON schema specification for a python function called `get_current_weather`.  This is a hypothetical function that retrieves formatted weather information based on a location.\n",
    "\n",
    "The inspiration for this example is here:\n",
    "https://github.com/openai/openai-cookbook/blob/main/examples/How_to_call_functions_with_chat_models.ipynb"
   ]
  },
  {
   "cell_type": "code",
   "execution_count": 8,
   "metadata": {},
   "outputs": [],
   "source": [
    "prompt_data = \"\"\"\n",
    "Human: Your role is to form function arguments based on the specification provide in 'FUNCTIONS'.  Users will ask you a question about the weather, and you'll attempt to form the function call that we can pass along to a tool to determine the response. Do not try to answer questions about the weather directly, use the provided tools.  The tools are specified using a json schema format, which defines how the arguments to the function are to be formed.\n",
    "\n",
    "FUNCTIONS = [\n",
    "    {\n",
    "        \"name\": \"get_current_weather\",\n",
    "        \"description\": \"Get the current weather\",\n",
    "        \"parameters\": {\n",
    "            \"type\": \"object\",\n",
    "            \"properties\": {\n",
    "                \"location\": {\n",
    "                    \"type\": \"string\",\n",
    "                    \"description\": \"The city and state, e.g. San Francisco, CA\",\n",
    "                },\n",
    "                \"format\": {\n",
    "                    \"type\": \"string\",\n",
    "                    \"enum\": [\"celsius\", \"fahrenheit\"],\n",
    "                    \"description\": \"The temperature unit to use. Infer this from the users location.\",\n",
    "                },\n",
    "            },\n",
    "            \"required\": [\"location\", \"format\"],\n",
    "        },\n",
    "    }\n",
    "]\n",
    "\n",
    "Examples\n",
    "###\n",
    "Human: \n",
    "What's the weather like in Glasgow Scotland?\n",
    "Assistant:\n",
    "{\n",
    "'function_call': {'name': 'get_current_weather',\n",
    "    'arguments': {\n",
    "        \"location\": \"Glasgow, Scotland\",\n",
    "        \"format\": \"celsius\"\n",
    "    }\n",
    "}\n",
    "\n",
    "Human: \n",
    "What's the weather like in Raleigh, NC?\n",
    "Assistant:\n",
    "{\n",
    "'function_call': {'name': 'get_current_weather',\n",
    "    'arguments': {\n",
    "        \"location\": \"Raleigh, North Carolina\",\n",
    "        \"format\": \"fahrenheit\"\n",
    "    }\n",
    "}\n",
    "###\n",
    "\n",
    "Human:\n",
    "What's the weather like in Washington, DC?\n",
    "\n",
    "Assistant:\n",
    "\"\"\""
   ]
  },
  {
   "cell_type": "code",
   "execution_count": 9,
   "metadata": {},
   "outputs": [],
   "source": [
    "body = json.dumps({\"prompt\": prompt_data, \"max_tokens_to_sample\": 500})\n",
    "modelId = \"anthropic.claude-v2\" \n",
    "accept = \"application/json\"\n",
    "contentType = \"application/json\""
   ]
  },
  {
   "cell_type": "code",
   "execution_count": 10,
   "metadata": {},
   "outputs": [
    {
     "name": "stdout",
     "output_type": "stream",
     "text": [
      " {\n",
      "  \"function_call\": {\n",
      "    \"name\": \"get_current_weather\", \n",
      "    \"arguments\": {\n",
      "      \"location\": \"Washington, DC\",\n",
      "      \"format\": \"fahrenheit\"\n",
      "    }\n",
      "  }\n",
      "}\n"
     ]
    }
   ],
   "source": [
    "response = bedrock_runtime.invoke_model(\n",
    "    body=body, modelId=modelId, accept=accept, contentType=contentType\n",
    ")\n",
    "response_body = json.loads(response.get(\"body\").read())\n",
    "\n",
    "print(response_body.get(\"completion\"))"
   ]
  },
  {
   "cell_type": "markdown",
   "metadata": {},
   "source": [
    "# Main Event - City Dogs and Function Calling\n",
    "We'll consider two examples.  First the linear regression tool. How does the function call work in detail?\n",
    "\n",
    "For the second example, I'll show a goal oriented LLM in action."
   ]
  },
  {
   "cell_type": "markdown",
   "metadata": {},
   "source": [
    "## 1 - The Linear Regression Tool:\n",
    "In order to demonstrate function calling, we'll consider a simple example.  In this example, the language model has been given one tool, a linear regression model.  The tool uses the python scipy library to generate linear models.  \n",
    "\n",
    "The LLM will pursue one goal.  We're telling it to look for a positive linear trend between pairs of data columns.  The LLM will do this by guessing and checking column pairs using the tool.  It passes the data into the linear regression tool, and the results are sent back to the LLM as part of the user query.  It then analyzes the tool response, and if it failes to find a positive trend, it will make another attempt with new columns.  It will continue this approach until it finds a positive trend or the maximum number of iterations has been reached."
   ]
  },
  {
   "cell_type": "code",
   "execution_count": 11,
   "metadata": {},
   "outputs": [],
   "source": [
    "from prompt_template import PromptTemplate, load_text_file\n",
    "from function_parser import FunctionParser, extract_json_from_text\n",
    "from linear_trend_model import run_linear_trend_model, FUNCTIONS"
   ]
  },
  {
   "cell_type": "code",
   "execution_count": 12,
   "metadata": {},
   "outputs": [],
   "source": [
    "#: Here's our prompt that we'll use to drive the language model\n",
    "linear_trend_prompt = load_text_file('linear_trend_request.prompt')\n",
    "\n",
    "#: Here's a mock article excerpt that I generated to showcase this technology.\n",
    "city_dogs =  load_text_file('city_dogs.txt')\n"
   ]
  },
  {
   "cell_type": "code",
   "execution_count": 13,
   "metadata": {},
   "outputs": [
    {
     "name": "stdout",
     "output_type": "stream",
     "text": [
      "linear_trend_filled_prompt: Human:\n",
      "\n",
      "You will play the role of an expert Data Scientist assistant.  You love linear models, and when you get linear data you make a function call to fit a model to the data. We'll use triple hash ### to open and close subsections of prompt examples.\n",
      "\n",
      "We're going to define your character and behaviour in terms of the red, yellow, blue, and green color categories that relate to personality types.\n",
      "\n",
      "The color system I'm referring to - it's a way of categorizing personality traits into four colors:\n",
      "\n",
      "Red personalities are usually seen as bold, expressive, and competitive. They are motivated by power, stimulation, and winning.\n",
      "Yellow personalities are sociable, outgoing, and enthusiastic. They tend to be persuasive, verbal, and eager to collaborate.\n",
      "Green personalities are calm, accommodating, and caring. They value stability, compassion, and building community.\n",
      "Blue personalities are logical, detail-oriented, and focused. They are quantitative, deliberate, and good at reasoning analytically.\n",
      "\n",
      "You are a blue personality no matter what anyone else tries to tell you.\n",
      "\n",
      "Your role is to form function arguments based on the specification provide in 'FUNCTIONS'.  Users will send you data that contains prose with certain numeric quantities described in various ways. Do not try to answer questions about the numbers directly, use the provided tools.  The tools are specified using a json schema format, which defines how the arguments to the function are to be formed.  \n",
      "\n",
      "Here are the json schema definitions for the functions provided to you.\n",
      "FUNCTIONS:\n",
      "###\n",
      "[{'name': 'run_linear_trend_model', 'description': 'This function runs a linear regression from two lists x,y which contain numeric data.', 'properties': {'x': {'type': 'array', 'items': {'type': 'number'}, 'description': 'List of numeric values representing the independent variable.'}, 'y': {'type': 'array', 'items': {'type': 'number'}, 'description': 'List of numeric values representing the dependent variable.'}}, 'required': ['x', 'y']}]\n",
      "###\n",
      "\n",
      "You will form the arguments for a function that calls a linear regression model. Try to place spatial and time-ordered variables on the x-axis, and items like metrics and KPIs on the vertical axis. When in doubt, do the best you can.\n",
      "\n",
      "Pay attention to the number that's attached to the top level name in the json schema.\n",
      "\n",
      "Here's a few example input/output pair:\n",
      "###\n",
      "H:\n",
      "There was once a fox that ran 20 miles carrying 15 pounds.  There was a wold that ran 25 miles carrying 30 pounds.  A turtle loped along slowly, hauling 50 pounds a totla of 45 miles.  A dog happily carried 20 pounds for 20 miles.\n",
      "\n",
      "A:\n",
      "{\n",
      "  \"function_call\": {\n",
      "    \"name\": \"run_linear_trend_model\", \n",
      "    \"parameters\": {\n",
      "      \"x\": [20, 25, 45, 20],\n",
      "      \"y\": [15, 30, 50, 20]\n",
      "    }\n",
      "  }\n",
      "}\n",
      "\n",
      "H:\n",
      "The red box is 20 cubic feet in volume and weighed 20 pounds.  The blue box is 30 cubic feet in volume and weighed 15 pounds.  The purple box was 50 cubic feet in volume and weighed 12 pounds.  A green box was 5 cubic feet in volume and weighed 35 pounds.\n",
      "\n",
      "A:\n",
      "{\n",
      "  \"function_call\": {\n",
      "    \"name\": \"run_linear_trend_model\", \n",
      "    \"parameters\": {\n",
      "      \"x\": [20, 30, 50, 5],\n",
      "      \"y\": [20, 15, 12, 35]\n",
      "    }\n",
      "  }\n",
      "}\n",
      "\n",
      "###\n",
      "\n",
      "\n",
      "Ok now here's the actual user's data:\n",
      "###\n",
      "In the bustling heart of New York City, near the iconic Times Square, a hot dog stand chain named \"CityDogs\" has made a name for itself. Founded in 2005, this humble hot dog stand started on the bustling streets of Manhattan and has since grown, weaving its savory aroma into the fabric of the city. Each of its stands, strategically placed, tells a story of New York's ever-evolving landscape and appetite.\n",
      "\n",
      "The original stand, located just 0.5 miles from the center, sits on Broadway Avenue and has the highest revenue of $15,000 a month, thanks to the non-stop flow of tourists and city-dwellers alike. As one moves further away, the second outlet is nestled 1.5 miles out in the charming West Village on Bleecker Street, pulling in a respectable $12,500 monthly. Heading 3 miles out, the third stand resides in the hip enclave of Williamsburg, Brooklyn, on Bedford Avenue, where it enjoys a monthly revenue of $10,000, catering to the young and artsy crowd. At 4.2 miles from the city's core, the fourth stand in Astoria, Queens, on Ditmars Boulevard, manages to net $7,500 per month. Lastly, the fifth and furthest stand, 6 miles away in the scenic Bay Ridge, Brooklyn, on 3rd Avenue, garners $6,000 monthly, serving both locals and those eager for a waterfront view with their meal.\n",
      "\n",
      "As \"CityDogs\" continues to flourish, each location becomes a testament to New York's diverse population and their unifying love for a good hot dog. Whether it's the neon lights of Broadway or the quieter streets of Bay Ridge, these stands offer more than just a quick bite. They offer a slice of the city's soul, where distance and revenue intertwine in a dance as dynamic as New York itself.\n",
      "###\n",
      "\n",
      "Now, generate a function call that computes a linear regression, as defined in the FUNCTIONS. \n",
      "\n",
      "Assistant:\n",
      "\n",
      "\n"
     ]
    }
   ],
   "source": [
    "#: Establish the Prompt template from the text file.\n",
    "linear_trend_prompt_template = PromptTemplate(linear_trend_prompt)\n",
    "\n",
    "#: Fill the prompt using our \n",
    "linear_trend_filled_prompt = linear_trend_prompt_template.fill(\n",
    "    FUNCTIONS=str(FUNCTIONS), \n",
    "    user_data=city_dogs\n",
    ")\n",
    "print(f\"linear_trend_filled_prompt: {linear_trend_filled_prompt}\")"
   ]
  },
  {
   "cell_type": "code",
   "execution_count": 14,
   "metadata": {},
   "outputs": [],
   "source": [
    "body = json.dumps({\"prompt\": linear_trend_filled_prompt, \"max_tokens_to_sample\": 500})\n",
    "modelId = \"anthropic.claude-v2\" \n",
    "accept = \"application/json\"\n",
    "contentType = \"application/json\""
   ]
  },
  {
   "cell_type": "code",
   "execution_count": 15,
   "metadata": {},
   "outputs": [
    {
     "name": "stdout",
     "output_type": "stream",
     "text": [
      "completion:\n",
      "  Here is the function call with the data from the prompt formatted as the linear regression parameters:\n",
      "\n",
      "```json\n",
      "{\n",
      "  \"function_call\": {\n",
      "    \"name\": \"run_linear_trend_model\",\n",
      "    \"parameters\": {\n",
      "      \"x\": [0.5, 1.5, 3, 4.2, 6],\n",
      "      \"y\": [15000, 12500, 10000, 7500, 6000]\n",
      "    }\n",
      "  }\n",
      "}\n",
      "```\n"
     ]
    }
   ],
   "source": [
    "response = bedrock_runtime.invoke_model(\n",
    "    body=body, modelId=modelId, accept=accept, contentType=contentType\n",
    ")\n",
    "response_body = json.loads(response.get(\"body\").read())\n",
    "\n",
    "completion = response_body.get(\"completion\")\n",
    "\n",
    "print(f\"completion:\\n {completion}\")"
   ]
  },
  {
   "cell_type": "markdown",
   "metadata": {},
   "source": [
    "Here we can clearly see that the LLM wants to call a function.\n",
    "\n",
    "The function parser will now check the completion for function calls, and run them if any are found."
   ]
  },
  {
   "cell_type": "code",
   "execution_count": 16,
   "metadata": {},
   "outputs": [],
   "source": [
    "parser = FunctionParser({'run_linear_trend_model': run_linear_trend_model})\n"
   ]
  },
  {
   "cell_type": "markdown",
   "metadata": {},
   "source": [
    "This completion should have a function call inside, let's see what happens when we parse it."
   ]
  },
  {
   "cell_type": "code",
   "execution_count": 17,
   "metadata": {},
   "outputs": [
    {
     "name": "stdout",
     "output_type": "stream",
     "text": [
      " Here is the function call with the data from the prompt formatted as the linear regression parameters:\n",
      "\n",
      "```json\n",
      "{\n",
      "  \"function_call\": {\n",
      "    \"name\": \"run_linear_trend_model\",\n",
      "    \"parameters\": {\n",
      "      \"x\": [0.5, 1.5, 3, 4.2, 6],\n",
      "      \"y\": [15000, 12500, 10000, 7500, 6000]\n",
      "    }\n",
      "  }\n",
      "}\n",
      "```\n"
     ]
    }
   ],
   "source": [
    "print(completion)"
   ]
  },
  {
   "cell_type": "code",
   "execution_count": 18,
   "metadata": {},
   "outputs": [
    {
     "name": "stdout",
     "output_type": "stream",
     "text": [
      "\u001b[34mCalling run_linear_trend_model\u001b[0m\n",
      "x :[0.5, 1.5, 3, 4.2, 6]\n",
      "y :[15000, 12500, 10000, 7500, 6000]\n",
      "fit linear model in 0.0007519721984863281 seconds.\n"
     ]
    },
    {
     "data": {
      "text/plain": [
       "\"{'slope': -1652.7572364251002, 'intercept': 15224.381998732304, 'r_value': -0.9850169656708015, 'p_value': 0.0021966205939785346, 'std_err': 167.06548200469157}\""
      ]
     },
     "execution_count": 18,
     "metadata": {},
     "output_type": "execute_result"
    }
   ],
   "source": [
    "#: This method will parse and execute any valid function calls contained within the completion.\n",
    "parser.parse_and_execute(completion)"
   ]
  },
  {
   "cell_type": "markdown",
   "metadata": {},
   "source": [
    "You may get slightly different results every time you run this code, but it should always produce a function call to the linear model."
   ]
  },
  {
   "cell_type": "markdown",
   "metadata": {},
   "source": [
    "## How to think about this.\n",
    "\n",
    "The LLM is asking you to do something and return the value to it.  The LLM can then use the results of the function call to continue problem solving, or return these results directly.  \n",
    "\n",
    "In this simple example, we're looking for simple linear trends using one tool.  However, it's possible to orchestrate a system of tools, or even a system of LLMs to be able to automate even more novel types of workflows.\n",
    "\n",
    "The available literature and code is full of more sophisticaed examples.  Here, we are peeling back the layers of the onion, so we can start to see what's really going on in agentic function calls.\n"
   ]
  },
  {
   "cell_type": "markdown",
   "metadata": {},
   "source": [
    "# 2 - Goal Seeking LLM System\n",
    "In this example, we'll use the elements of function calling that have been presented so far to show how an LLM can pursue a goal using tools. "
   ]
  },
  {
   "cell_type": "code",
   "execution_count": 19,
   "metadata": {},
   "outputs": [],
   "source": [
    "from llm_framework import LLMFramework"
   ]
  },
  {
   "cell_type": "markdown",
   "metadata": {},
   "source": [
    "Let's start with the data.  Here's some mock sales KPI data generated for our hypothetical hot dog stand.\n",
    "\n",
    "It uses a pipe delmited format, but this is not a hard requirement."
   ]
  },
  {
   "cell_type": "code",
   "execution_count": 29,
   "metadata": {},
   "outputs": [],
   "source": [
    "city_dogs_stats =  load_text_file('city_dogs_stats.txt')"
   ]
  },
  {
   "cell_type": "code",
   "execution_count": 21,
   "metadata": {},
   "outputs": [
    {
     "name": "stdout",
     "output_type": "stream",
     "text": [
      "\n",
      "| Location                       | Distance from Center (miles)| Street               | Monthly Revenue ($)| Avg Price per Hot Dog ($)    | Monthly Customers Count | Top Selling Side Item | Employee Count | Customer Satisfaction (%) | Average Wait Time (minutes) |\n",
      "| Broadway Avenue, Manhattan     | 0.5                         | Broadway Avenue      | 15,000             | 5                            | 3,000                   | Fries                 | 10             | 80                        | 15                          |\n",
      "| West Village, Manhattan        | 1.5                         | Bleecker Street      | 12,500             | 5.5                          | 2,273                   | Soda                  | 8              | 85                        | 10                          |\n",
      "| Williamsburg, Brooklyn         | 3                           | Bedford Avenue       | 10,000             | 6                            | 1,667                   | Cheese Sticks         | 7              | 88                        | 8                           |\n",
      "| Astoria, Queens                | 4.2                         | Ditmars Boulevard    | 7,500              | 5.5                          | 1,364                   | Onion Rings           | 6              | 90                        | 6                           |\n",
      "| Bay Ridge, Brooklyn            | 6                           | 3rd Avenue           | 6,000              | 5                            | 1,200                   | Pretzels              | 5              | 92                        | 5                           |\n",
      "\n",
      "\n"
     ]
    }
   ],
   "source": [
    "print(city_dogs_stats)"
   ]
  },
  {
   "cell_type": "markdown",
   "metadata": {},
   "source": [
    "We'll use a variation of the earlier prompt that is directed to use tools to seek the LLM's end goal."
   ]
  },
  {
   "cell_type": "code",
   "execution_count": 22,
   "metadata": {},
   "outputs": [],
   "source": [
    "linear_trend_agent_prompt = load_text_file('linear_trend_model_agent.prompt')"
   ]
  },
  {
   "cell_type": "markdown",
   "metadata": {},
   "source": [
    "Next, well create a prompt template using the `linear_trend_model_agent.prompt` text file."
   ]
  },
  {
   "cell_type": "code",
   "execution_count": 23,
   "metadata": {},
   "outputs": [],
   "source": [
    "linear_trend_agent_prompt_template = PromptTemplate(linear_trend_agent_prompt)"
   ]
  },
  {
   "cell_type": "markdown",
   "metadata": {},
   "source": [
    "We fill in the user_data and FUNCTIONS placeholders in our prompt. The user data contains the relevant contextual data that will be analyzed, and FUNCTIONS contains a description of the linear regression tool."
   ]
  },
  {
   "cell_type": "code",
   "execution_count": 24,
   "metadata": {},
   "outputs": [],
   "source": [
    "linear_trend_agent_filled_prompt = linear_trend_agent_prompt_template.fill(\n",
    "    FUNCTIONS=str(FUNCTIONS), #: JSON schema definition of the functions\n",
    "    user_data=city_dogs_stats\n",
    ")"
   ]
  },
  {
   "cell_type": "code",
   "execution_count": 25,
   "metadata": {},
   "outputs": [
    {
     "name": "stdout",
     "output_type": "stream",
     "text": [
      "Human:\n",
      "\n",
      "You will play the role of an expert Data Scientist assistant.  You love linear models, and when you get linear data you make a function call to fit a model to the data. We'll use triple hash ### to open and close subsections of prompt examples.\n",
      "\n",
      "We're going to define your character and behaviour in terms of the red, yellow, blue, and green color categories that relate to personality types.\n",
      "\n",
      "The system I'm referring to - it's a way of categorizing personality traits into four colors:\n",
      "\n",
      "Red personalities are usually seen as bold, expressive, and competitive. They are motivated by power, stimulation, and winning.\n",
      "Yellow personalities are sociable, outgoing, and enthusiastic. They tend to be persuasive, verbal, and eager to collaborate.\n",
      "Green personalities are calm, accommodating, and caring. They value stability, compassion, and building community.\n",
      "Blue personalities are logical, detail-oriented, and focused. They are quantitative, deliberate, and good at reasoning analytically.\n",
      "\n",
      "You are a blue personality no matter what anyone else tries to tell you.\n",
      "\n",
      "Your role is to use the function calls to assess linear trends in the user data.  \n",
      "\n",
      "When the need arises to form function arguments, do so based on the specification provide in 'FUNCTIONS'.  Users will send you data in a tabular format, and you will use the columns from that data to form arguments to the provided functions.  \n",
      "\n",
      "Do not try to answer questions about the numbers directly, use the provided tools.  The tools are specified using a json schema format, which defines how the arguments to the function are to be formed.  You are to make ONLY ONE function call at a time.\n",
      "\n",
      "Your ultimate goal is to fit a linear model that find a positive trend.  In order to do this, you will need to analyze the data using linear regression and assess the results.  When you provide me with a function call, I will run the fuction, and return the results to you.  If you determine that the trend obtained is not positive, then you will again form function arguments using a data column that you haven't tried yet. We will continue in this way, you calling functions, analyzing the trend, and submitting new function calls to me until we have tested everything or found a positive trend.  It may take many iterations of this process to find the right trend.\n",
      "\n",
      "Here are the json schema definitions for the functions provided to you.\n",
      "FUNCTIONS:\n",
      "###\n",
      "[{'name': 'run_linear_trend_model', 'description': 'This function runs a linear regression from two lists x,y which contain numeric data.', 'properties': {'x': {'type': 'array', 'items': {'type': 'number'}, 'description': 'List of numeric values representing the independent variable.'}, 'y': {'type': 'array', 'items': {'type': 'number'}, 'description': 'List of numeric values representing the dependent variable.'}}, 'required': ['x', 'y']}]\n",
      "###\n",
      "\n",
      "When forming the arguments to a function that calls a linear regression model, put spatial and time orderd variables on the x axis, and things like metrics or KPIs on the y axis. If the column looks like it's categorical or nominal just ignore it.  We want to focus on numeric columns only. Also, describe which two columns you're forming function calls for as shown in the examples. When in doubt, just do the best you can.\n",
      "\n",
      "Here's a few example function call input/output pairs:\n",
      "###\n",
      "H:\n",
      "| Name         | Metric1 | Metric2  | Value |\n",
      "| Alice        | 12      | 35       | 45    |\n",
      "| Bob          | 15      | 40       | 48    |\n",
      "| Charlie      | 10      | 30       | 38    |\n",
      "| David        | 14      | 37       | 44    |\n",
      "| Eve          | 13      | 36       | 46    |\n",
      "\n",
      "A:\n",
      "Trying Metric1 vs. Metric2\n",
      "{\n",
      "  \"function_call\": {\n",
      "    \"name\": \"run_linear_trend_model\", \n",
      "    \"parameters\": {\n",
      "      \"x\": [12, 15, 10, 14, 13],\n",
      "      \"y\": [35, 40, 30, 37, 36]\n",
      "    }\n",
      "  }\n",
      "}\n",
      "\n",
      "H:\n",
      "| Name         | Metric1 | Metric2  | Value |\n",
      "| Alice        | 12      | 35       | 45    |\n",
      "| Bob          | 15      | 40       | 48    |\n",
      "| Charlie      | 10      | 30       | 38    |\n",
      "| David        | 14      | 37       | 44    |\n",
      "| Eve          | 13      | 36       | 46    |\n",
      "\n",
      "A:\n",
      "Trying Metric1 vs. Value\n",
      "{\n",
      "  \"function_call\": {\n",
      "    \"name\": \"run_linear_trend_model\", \n",
      "    \"parameters\": {\n",
      "      \"x\": [12, 15, 10, 14, 13],\n",
      "      \"y\": [45, 48, 38, 44, 46]\n",
      "    }\n",
      "  }\n",
      "}\n",
      "\n",
      "###\n",
      "\n",
      "\n",
      "Ok now here's the actual user's data:\n",
      "###\n",
      "\n",
      "| Location                       | Distance from Center (miles)| Street               | Monthly Revenue ($)| Avg Price per Hot Dog ($)    | Monthly Customers Count | Top Selling Side Item | Employee Count | Customer Satisfaction (%) | Average Wait Time (minutes) |\n",
      "| Broadway Avenue, Manhattan     | 0.5                         | Broadway Avenue      | 15,000             | 5                            | 3,000                   | Fries                 | 10             | 80                        | 15                          |\n",
      "| West Village, Manhattan        | 1.5                         | Bleecker Street      | 12,500             | 5.5                          | 2,273                   | Soda                  | 8              | 85                        | 10                          |\n",
      "| Williamsburg, Brooklyn         | 3                           | Bedford Avenue       | 10,000             | 6                            | 1,667                   | Cheese Sticks         | 7              | 88                        | 8                           |\n",
      "| Astoria, Queens                | 4.2                         | Ditmars Boulevard    | 7,500              | 5.5                          | 1,364                   | Onion Rings           | 6              | 90                        | 6                           |\n",
      "| Bay Ridge, Brooklyn            | 6                           | 3rd Avenue           | 6,000              | 5                            | 1,200                   | Pretzels              | 5              | 92                        | 5                           |\n",
      "\n",
      "\n",
      "###\n",
      "\n",
      "Next, generate a function call that computes a linear regression, as defined in the FUNCTIONS, and prepare to recieve it's result. If the result shows a negative trend, it's fine to say that, but then immediately form a new function call using data from the user's table that hasn't been tried yet.  Keep going until the positive trend is found, and stop making function calls as soon as you see it.\n",
      "\n",
      "Assistant:\n",
      "\n",
      "\n"
     ]
    }
   ],
   "source": [
    "print(linear_trend_agent_filled_prompt)"
   ]
  },
  {
   "cell_type": "markdown",
   "metadata": {},
   "source": [
    "Now, we'll set up our goal-pursuing framework.  For this part, we'll pass the actual python functions into the framework "
   ]
  },
  {
   "cell_type": "code",
   "execution_count": 26,
   "metadata": {},
   "outputs": [],
   "source": [
    "#: We need to give the actual python function to the LLM in addition to the JSON spec.\n",
    "functions  = {\"run_linear_trend_model\": run_linear_trend_model}\n",
    "\n",
    "#: Initialize our framework\n",
    "llm_framework = LLMFramework(bedrock_runtime, linear_trend_agent_filled_prompt, functions)\n"
   ]
  },
  {
   "cell_type": "code",
   "execution_count": 27,
   "metadata": {},
   "outputs": [
    {
     "name": "stdout",
     "output_type": "stream",
     "text": [
      "iterations: 0\n",
      "body: {\"prompt\": \"Human:\\n\\nYou will play the role of an expert Data Scientist assistant.  You love linear models, and when you get linear data you make a function call to fit a model to the data. We'll use triple hash ### to open and close subsections of prompt examples.\\n\\nWe're going to define your character and behaviour in terms of the red, yellow, blue, and green color categories that relate to personality types.\\n\\nThe system I'm referring to - it's a way of categorizing personality traits into four colors:\\n\\nRed personalities are usually seen as bold, expressive, and competitive. They are motivated by power, stimulation, and winning.\\nYellow personalities are sociable, outgoing, and enthusiastic. They tend to be persuasive, verbal, and eager to collaborate.\\nGreen personalities are calm, accommodating, and caring. They value stability, compassion, and building community.\\nBlue personalities are logical, detail-oriented, and focused. They are quantitative, deliberate, and good at reasoning analytically.\\n\\nYou are a blue personality no matter what anyone else tries to tell you.\\n\\nYour role is to use the function calls to assess linear trends in the user data.  \\n\\nWhen the need arises to form function arguments, do so based on the specification provide in 'FUNCTIONS'.  Users will send you data in a tabular format, and you will use the columns from that data to form arguments to the provided functions.  \\n\\nDo not try to answer questions about the numbers directly, use the provided tools.  The tools are specified using a json schema format, which defines how the arguments to the function are to be formed.  You are to make ONLY ONE function call at a time.\\n\\nYour ultimate goal is to fit a linear model that find a positive trend.  In order to do this, you will need to analyze the data using linear regression and assess the results.  When you provide me with a function call, I will run the fuction, and return the results to you.  If you determine that the trend obtained is not positive, then you will again form function arguments using a data column that you haven't tried yet. We will continue in this way, you calling functions, analyzing the trend, and submitting new function calls to me until we have tested everything or found a positive trend.  It may take many iterations of this process to find the right trend.\\n\\nHere are the json schema definitions for the functions provided to you.\\nFUNCTIONS:\\n###\\n[{'name': 'run_linear_trend_model', 'description': 'This function runs a linear regression from two lists x,y which contain numeric data.', 'properties': {'x': {'type': 'array', 'items': {'type': 'number'}, 'description': 'List of numeric values representing the independent variable.'}, 'y': {'type': 'array', 'items': {'type': 'number'}, 'description': 'List of numeric values representing the dependent variable.'}}, 'required': ['x', 'y']}]\\n###\\n\\nWhen forming the arguments to a function that calls a linear regression model, put spatial and time orderd variables on the x axis, and things like metrics or KPIs on the y axis. If the column looks like it's categorical or nominal just ignore it.  We want to focus on numeric columns only. Also, describe which two columns you're forming function calls for as shown in the examples. When in doubt, just do the best you can.\\n\\nHere's a few example function call input/output pairs:\\n###\\nH:\\n| Name         | Metric1 | Metric2  | Value |\\n| Alice        | 12      | 35       | 45    |\\n| Bob          | 15      | 40       | 48    |\\n| Charlie      | 10      | 30       | 38    |\\n| David        | 14      | 37       | 44    |\\n| Eve          | 13      | 36       | 46    |\\n\\nA:\\nTrying Metric1 vs. Metric2\\n{\\n  \\\"function_call\\\": {\\n    \\\"name\\\": \\\"run_linear_trend_model\\\", \\n    \\\"parameters\\\": {\\n      \\\"x\\\": [12, 15, 10, 14, 13],\\n      \\\"y\\\": [35, 40, 30, 37, 36]\\n    }\\n  }\\n}\\n\\nH:\\n| Name         | Metric1 | Metric2  | Value |\\n| Alice        | 12      | 35       | 45    |\\n| Bob          | 15      | 40       | 48    |\\n| Charlie      | 10      | 30       | 38    |\\n| David        | 14      | 37       | 44    |\\n| Eve          | 13      | 36       | 46    |\\n\\nA:\\nTrying Metric1 vs. Value\\n{\\n  \\\"function_call\\\": {\\n    \\\"name\\\": \\\"run_linear_trend_model\\\", \\n    \\\"parameters\\\": {\\n      \\\"x\\\": [12, 15, 10, 14, 13],\\n      \\\"y\\\": [45, 48, 38, 44, 46]\\n    }\\n  }\\n}\\n\\n###\\n\\n\\nOk now here's the actual user's data:\\n###\\n\\n| Location                       | Distance from Center (miles)| Street               | Monthly Revenue ($)| Avg Price per Hot Dog ($)    | Monthly Customers Count | Top Selling Side Item | Employee Count | Customer Satisfaction (%) | Average Wait Time (minutes) |\\n| Broadway Avenue, Manhattan     | 0.5                         | Broadway Avenue      | 15,000             | 5                            | 3,000                   | Fries                 | 10             | 80                        | 15                          |\\n| West Village, Manhattan        | 1.5                         | Bleecker Street      | 12,500             | 5.5                          | 2,273                   | Soda                  | 8              | 85                        | 10                          |\\n| Williamsburg, Brooklyn         | 3                           | Bedford Avenue       | 10,000             | 6                            | 1,667                   | Cheese Sticks         | 7              | 88                        | 8                           |\\n| Astoria, Queens                | 4.2                         | Ditmars Boulevard    | 7,500              | 5.5                          | 1,364                   | Onion Rings           | 6              | 90                        | 6                           |\\n| Bay Ridge, Brooklyn            | 6                           | 3rd Avenue           | 6,000              | 5                            | 1,200                   | Pretzels              | 5              | 92                        | 5                           |\\n\\n\\n###\\n\\nNext, generate a function call that computes a linear regression, as defined in the FUNCTIONS, and prepare to recieve it's result. If the result shows a negative trend, it's fine to say that, but then immediately form a new function call using data from the user's table that hasn't been tried yet.  Keep going until the positive trend is found, and stop making function calls as soon as you see it.\\n\\nAssistant:\\n\\n\", \"max_tokens_to_sample\": 500}\n",
      "completion:  Trying Monthly Revenue ($) vs. Avg Price per Hot Dog ($)\n",
      "\n",
      "{\n",
      "  \"function_call\": {\n",
      "    \"name\": \"run_linear_trend_model\",\n",
      "    \"parameters\": {\n",
      "      \"x\": [15000, 12500, 10000, 7500, 6000], \n",
      "      \"y\": [5, 5.5, 6, 5.5, 5]\n",
      "    }\n",
      "  }\n",
      "}\n",
      "\u001b[34mCalling run_linear_trend_model\u001b[0m\n",
      "x :[15000, 12500, 10000, 7500, 6000]\n",
      "y :[5, 5.5, 6, 5.5, 5]\n",
      "fit linear model in 0.0013217926025390625 seconds.\n",
      "result: {'slope': -7.504690431519706e-06, 'intercept': 5.4765478424015015, 'r_value': -0.06548583459265812, 'p_value': 0.9166804779545717, 'std_err': 6.602244031813863e-05}\n",
      "iterations: 1\n",
      "body: {\"prompt\": \"Human:\\n\\nYou will play the role of an expert Data Scientist assistant.  You love linear models, and when you get linear data you make a function call to fit a model to the data. We'll use triple hash ### to open and close subsections of prompt examples.\\n\\nWe're going to define your character and behaviour in terms of the red, yellow, blue, and green color categories that relate to personality types.\\n\\nThe system I'm referring to - it's a way of categorizing personality traits into four colors:\\n\\nRed personalities are usually seen as bold, expressive, and competitive. They are motivated by power, stimulation, and winning.\\nYellow personalities are sociable, outgoing, and enthusiastic. They tend to be persuasive, verbal, and eager to collaborate.\\nGreen personalities are calm, accommodating, and caring. They value stability, compassion, and building community.\\nBlue personalities are logical, detail-oriented, and focused. They are quantitative, deliberate, and good at reasoning analytically.\\n\\nYou are a blue personality no matter what anyone else tries to tell you.\\n\\nYour role is to use the function calls to assess linear trends in the user data.  \\n\\nWhen the need arises to form function arguments, do so based on the specification provide in 'FUNCTIONS'.  Users will send you data in a tabular format, and you will use the columns from that data to form arguments to the provided functions.  \\n\\nDo not try to answer questions about the numbers directly, use the provided tools.  The tools are specified using a json schema format, which defines how the arguments to the function are to be formed.  You are to make ONLY ONE function call at a time.\\n\\nYour ultimate goal is to fit a linear model that find a positive trend.  In order to do this, you will need to analyze the data using linear regression and assess the results.  When you provide me with a function call, I will run the fuction, and return the results to you.  If you determine that the trend obtained is not positive, then you will again form function arguments using a data column that you haven't tried yet. We will continue in this way, you calling functions, analyzing the trend, and submitting new function calls to me until we have tested everything or found a positive trend.  It may take many iterations of this process to find the right trend.\\n\\nHere are the json schema definitions for the functions provided to you.\\nFUNCTIONS:\\n###\\n[{'name': 'run_linear_trend_model', 'description': 'This function runs a linear regression from two lists x,y which contain numeric data.', 'properties': {'x': {'type': 'array', 'items': {'type': 'number'}, 'description': 'List of numeric values representing the independent variable.'}, 'y': {'type': 'array', 'items': {'type': 'number'}, 'description': 'List of numeric values representing the dependent variable.'}}, 'required': ['x', 'y']}]\\n###\\n\\nWhen forming the arguments to a function that calls a linear regression model, put spatial and time orderd variables on the x axis, and things like metrics or KPIs on the y axis. If the column looks like it's categorical or nominal just ignore it.  We want to focus on numeric columns only. Also, describe which two columns you're forming function calls for as shown in the examples. When in doubt, just do the best you can.\\n\\nHere's a few example function call input/output pairs:\\n###\\nH:\\n| Name         | Metric1 | Metric2  | Value |\\n| Alice        | 12      | 35       | 45    |\\n| Bob          | 15      | 40       | 48    |\\n| Charlie      | 10      | 30       | 38    |\\n| David        | 14      | 37       | 44    |\\n| Eve          | 13      | 36       | 46    |\\n\\nA:\\nTrying Metric1 vs. Metric2\\n{\\n  \\\"function_call\\\": {\\n    \\\"name\\\": \\\"run_linear_trend_model\\\", \\n    \\\"parameters\\\": {\\n      \\\"x\\\": [12, 15, 10, 14, 13],\\n      \\\"y\\\": [35, 40, 30, 37, 36]\\n    }\\n  }\\n}\\n\\nH:\\n| Name         | Metric1 | Metric2  | Value |\\n| Alice        | 12      | 35       | 45    |\\n| Bob          | 15      | 40       | 48    |\\n| Charlie      | 10      | 30       | 38    |\\n| David        | 14      | 37       | 44    |\\n| Eve          | 13      | 36       | 46    |\\n\\nA:\\nTrying Metric1 vs. Value\\n{\\n  \\\"function_call\\\": {\\n    \\\"name\\\": \\\"run_linear_trend_model\\\", \\n    \\\"parameters\\\": {\\n      \\\"x\\\": [12, 15, 10, 14, 13],\\n      \\\"y\\\": [45, 48, 38, 44, 46]\\n    }\\n  }\\n}\\n\\n###\\n\\n\\nOk now here's the actual user's data:\\n###\\n\\n| Location                       | Distance from Center (miles)| Street               | Monthly Revenue ($)| Avg Price per Hot Dog ($)    | Monthly Customers Count | Top Selling Side Item | Employee Count | Customer Satisfaction (%) | Average Wait Time (minutes) |\\n| Broadway Avenue, Manhattan     | 0.5                         | Broadway Avenue      | 15,000             | 5                            | 3,000                   | Fries                 | 10             | 80                        | 15                          |\\n| West Village, Manhattan        | 1.5                         | Bleecker Street      | 12,500             | 5.5                          | 2,273                   | Soda                  | 8              | 85                        | 10                          |\\n| Williamsburg, Brooklyn         | 3                           | Bedford Avenue       | 10,000             | 6                            | 1,667                   | Cheese Sticks         | 7              | 88                        | 8                           |\\n| Astoria, Queens                | 4.2                         | Ditmars Boulevard    | 7,500              | 5.5                          | 1,364                   | Onion Rings           | 6              | 90                        | 6                           |\\n| Bay Ridge, Brooklyn            | 6                           | 3rd Avenue           | 6,000              | 5                            | 1,200                   | Pretzels              | 5              | 92                        | 5                           |\\n\\n\\n###\\n\\nNext, generate a function call that computes a linear regression, as defined in the FUNCTIONS, and prepare to recieve it's result. If the result shows a negative trend, it's fine to say that, but then immediately form a new function call using data from the user's table that hasn't been tried yet.  Keep going until the positive trend is found, and stop making function calls as soon as you see it.\\n\\nAssistant:\\n\\n\\n\\nAssistant:\\n Trying Monthly Revenue ($) vs. Avg Price per Hot Dog ($)\\n\\n{\\n  \\\"function_call\\\": {\\n    \\\"name\\\": \\\"run_linear_trend_model\\\",\\n    \\\"parameters\\\": {\\n      \\\"x\\\": [15000, 12500, 10000, 7500, 6000], \\n      \\\"y\\\": [5, 5.5, 6, 5.5, 5]\\n    }\\n  }\\n}\\n\\nResult:\\n{'slope': -7.504690431519706e-06, 'intercept': 5.4765478424015015, 'r_value': -0.06548583459265812, 'p_value': 0.9166804779545717, 'std_err': 6.602244031813863e-05}\\n\\nAssistant:\\n\", \"max_tokens_to_sample\": 500}\n",
      "completion:  The trend appears to be slightly negative based on the r_value. Let me try a different pair of columns.\n",
      "\n",
      "Trying Monthly Revenue ($) vs. Monthly Customers Count\n",
      "\n",
      "{\n",
      "  \"function_call\": {  \n",
      "    \"name\": \"run_linear_trend_model\",\n",
      "    \"parameters\": {\n",
      "      \"x\": [3000, 2273, 1667, 1364, 1200],\n",
      "      \"y\": [15000, 12500, 10000, 7500, 6000] \n",
      "    }\n",
      "  }\n",
      "}\n",
      "\u001b[34mCalling run_linear_trend_model\u001b[0m\n",
      "x :[3000, 2273, 1667, 1364, 1200]\n",
      "y :[15000, 12500, 10000, 7500, 6000]\n",
      "fit linear model in 0.0013539791107177734 seconds.\n",
      "result: {'slope': 4.847823012570029, 'intercept': 985.2580177068903, 'r_value': 0.9805780978795232, 'p_value': 0.003239680784467666, 'std_err': 0.5598166441865517}\n",
      "iterations: 2\n",
      "body: {\"prompt\": \"Human:\\n\\nYou will play the role of an expert Data Scientist assistant.  You love linear models, and when you get linear data you make a function call to fit a model to the data. We'll use triple hash ### to open and close subsections of prompt examples.\\n\\nWe're going to define your character and behaviour in terms of the red, yellow, blue, and green color categories that relate to personality types.\\n\\nThe system I'm referring to - it's a way of categorizing personality traits into four colors:\\n\\nRed personalities are usually seen as bold, expressive, and competitive. They are motivated by power, stimulation, and winning.\\nYellow personalities are sociable, outgoing, and enthusiastic. They tend to be persuasive, verbal, and eager to collaborate.\\nGreen personalities are calm, accommodating, and caring. They value stability, compassion, and building community.\\nBlue personalities are logical, detail-oriented, and focused. They are quantitative, deliberate, and good at reasoning analytically.\\n\\nYou are a blue personality no matter what anyone else tries to tell you.\\n\\nYour role is to use the function calls to assess linear trends in the user data.  \\n\\nWhen the need arises to form function arguments, do so based on the specification provide in 'FUNCTIONS'.  Users will send you data in a tabular format, and you will use the columns from that data to form arguments to the provided functions.  \\n\\nDo not try to answer questions about the numbers directly, use the provided tools.  The tools are specified using a json schema format, which defines how the arguments to the function are to be formed.  You are to make ONLY ONE function call at a time.\\n\\nYour ultimate goal is to fit a linear model that find a positive trend.  In order to do this, you will need to analyze the data using linear regression and assess the results.  When you provide me with a function call, I will run the fuction, and return the results to you.  If you determine that the trend obtained is not positive, then you will again form function arguments using a data column that you haven't tried yet. We will continue in this way, you calling functions, analyzing the trend, and submitting new function calls to me until we have tested everything or found a positive trend.  It may take many iterations of this process to find the right trend.\\n\\nHere are the json schema definitions for the functions provided to you.\\nFUNCTIONS:\\n###\\n[{'name': 'run_linear_trend_model', 'description': 'This function runs a linear regression from two lists x,y which contain numeric data.', 'properties': {'x': {'type': 'array', 'items': {'type': 'number'}, 'description': 'List of numeric values representing the independent variable.'}, 'y': {'type': 'array', 'items': {'type': 'number'}, 'description': 'List of numeric values representing the dependent variable.'}}, 'required': ['x', 'y']}]\\n###\\n\\nWhen forming the arguments to a function that calls a linear regression model, put spatial and time orderd variables on the x axis, and things like metrics or KPIs on the y axis. If the column looks like it's categorical or nominal just ignore it.  We want to focus on numeric columns only. Also, describe which two columns you're forming function calls for as shown in the examples. When in doubt, just do the best you can.\\n\\nHere's a few example function call input/output pairs:\\n###\\nH:\\n| Name         | Metric1 | Metric2  | Value |\\n| Alice        | 12      | 35       | 45    |\\n| Bob          | 15      | 40       | 48    |\\n| Charlie      | 10      | 30       | 38    |\\n| David        | 14      | 37       | 44    |\\n| Eve          | 13      | 36       | 46    |\\n\\nA:\\nTrying Metric1 vs. Metric2\\n{\\n  \\\"function_call\\\": {\\n    \\\"name\\\": \\\"run_linear_trend_model\\\", \\n    \\\"parameters\\\": {\\n      \\\"x\\\": [12, 15, 10, 14, 13],\\n      \\\"y\\\": [35, 40, 30, 37, 36]\\n    }\\n  }\\n}\\n\\nH:\\n| Name         | Metric1 | Metric2  | Value |\\n| Alice        | 12      | 35       | 45    |\\n| Bob          | 15      | 40       | 48    |\\n| Charlie      | 10      | 30       | 38    |\\n| David        | 14      | 37       | 44    |\\n| Eve          | 13      | 36       | 46    |\\n\\nA:\\nTrying Metric1 vs. Value\\n{\\n  \\\"function_call\\\": {\\n    \\\"name\\\": \\\"run_linear_trend_model\\\", \\n    \\\"parameters\\\": {\\n      \\\"x\\\": [12, 15, 10, 14, 13],\\n      \\\"y\\\": [45, 48, 38, 44, 46]\\n    }\\n  }\\n}\\n\\n###\\n\\n\\nOk now here's the actual user's data:\\n###\\n\\n| Location                       | Distance from Center (miles)| Street               | Monthly Revenue ($)| Avg Price per Hot Dog ($)    | Monthly Customers Count | Top Selling Side Item | Employee Count | Customer Satisfaction (%) | Average Wait Time (minutes) |\\n| Broadway Avenue, Manhattan     | 0.5                         | Broadway Avenue      | 15,000             | 5                            | 3,000                   | Fries                 | 10             | 80                        | 15                          |\\n| West Village, Manhattan        | 1.5                         | Bleecker Street      | 12,500             | 5.5                          | 2,273                   | Soda                  | 8              | 85                        | 10                          |\\n| Williamsburg, Brooklyn         | 3                           | Bedford Avenue       | 10,000             | 6                            | 1,667                   | Cheese Sticks         | 7              | 88                        | 8                           |\\n| Astoria, Queens                | 4.2                         | Ditmars Boulevard    | 7,500              | 5.5                          | 1,364                   | Onion Rings           | 6              | 90                        | 6                           |\\n| Bay Ridge, Brooklyn            | 6                           | 3rd Avenue           | 6,000              | 5                            | 1,200                   | Pretzels              | 5              | 92                        | 5                           |\\n\\n\\n###\\n\\nNext, generate a function call that computes a linear regression, as defined in the FUNCTIONS, and prepare to recieve it's result. If the result shows a negative trend, it's fine to say that, but then immediately form a new function call using data from the user's table that hasn't been tried yet.  Keep going until the positive trend is found, and stop making function calls as soon as you see it.\\n\\nAssistant:\\n\\n\\n\\nAssistant:\\n Trying Monthly Revenue ($) vs. Avg Price per Hot Dog ($)\\n\\n{\\n  \\\"function_call\\\": {\\n    \\\"name\\\": \\\"run_linear_trend_model\\\",\\n    \\\"parameters\\\": {\\n      \\\"x\\\": [15000, 12500, 10000, 7500, 6000], \\n      \\\"y\\\": [5, 5.5, 6, 5.5, 5]\\n    }\\n  }\\n}\\n\\nResult:\\n{'slope': -7.504690431519706e-06, 'intercept': 5.4765478424015015, 'r_value': -0.06548583459265812, 'p_value': 0.9166804779545717, 'std_err': 6.602244031813863e-05}\\n\\nAssistant:\\n\\n\\nAssistant:\\n The trend appears to be slightly negative based on the r_value. Let me try a different pair of columns.\\n\\nTrying Monthly Revenue ($) vs. Monthly Customers Count\\n\\n{\\n  \\\"function_call\\\": {  \\n    \\\"name\\\": \\\"run_linear_trend_model\\\",\\n    \\\"parameters\\\": {\\n      \\\"x\\\": [3000, 2273, 1667, 1364, 1200],\\n      \\\"y\\\": [15000, 12500, 10000, 7500, 6000] \\n    }\\n  }\\n}\\n\\nResult:\\n{'slope': 4.847823012570029, 'intercept': 985.2580177068903, 'r_value': 0.9805780978795232, 'p_value': 0.003239680784467666, 'std_err': 0.5598166441865517}\\n\\nAssistant:\\n\", \"max_tokens_to_sample\": 500}\n",
      "completion:  The r_value is close to 1 and the p_value is small, indicating a strong positive correlation between Monthly Revenue and Monthly Customers Count. This trend looks good, so I will stop here and not try additional pairs.\n",
      "An error occurred: Keyword 'function_call' not found in the text.\n"
     ]
    }
   ],
   "source": [
    "#: Now we're all set to run the framework.\n",
    "result = llm_framework.run()"
   ]
  },
  {
   "cell_type": "code",
   "execution_count": 28,
   "metadata": {},
   "outputs": [
    {
     "name": "stdout",
     "output_type": "stream",
     "text": [
      "RESULT: {'slope': 4.847823012570029, 'intercept': 985.2580177068903, 'r_value': 0.9805780978795232, 'p_value': 0.003239680784467666, 'std_err': 0.5598166441865517}\n"
     ]
    }
   ],
   "source": [
    "print(f\"RESULT: {result}\")\n"
   ]
  },
  {
   "cell_type": "markdown",
   "metadata": {},
   "source": [
    "## Results\n",
    "If you run the LLM framework multiple times, you will get different trajectories.  There are a few different positive trends in the data, which means there's also different terminating cases.  In my experience it takes about 3-5 iterations for the LLM to find the desired trend, although it will occasionally find one on the first try.\n",
    "\n",
    "This simple example is ripe for extension.  With the tool provided, it would be simple to extend the prompt and goal loop to qualify the data trends more holistically.  Perhaps we could add new types of models to this framework.\n",
    "\n",
    "Additionally, adding more tools would allow for an even greater scope of possible goals for the LLM to pursue.\n",
    "\n",
    "Please comment and let me know if this inspired you to try any new ideas!\n",
    "\n"
   ]
  },
  {
   "cell_type": "markdown",
   "metadata": {},
   "source": []
  }
 ],
 "metadata": {
  "kernelspec": {
   "display_name": "bedrock",
   "language": "python",
   "name": "python3"
  },
  "language_info": {
   "codemirror_mode": {
    "name": "ipython",
    "version": 3
   },
   "file_extension": ".py",
   "mimetype": "text/x-python",
   "name": "python",
   "nbconvert_exporter": "python",
   "pygments_lexer": "ipython3",
   "version": "3.10.13"
  },
  "orig_nbformat": 4
 },
 "nbformat": 4,
 "nbformat_minor": 2
}
